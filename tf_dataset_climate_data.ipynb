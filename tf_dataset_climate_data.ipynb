{
 "cells": [
  {
   "cell_type": "markdown",
   "id": "0efb944d-82ac-44bb-a14a-0831b284b4eb",
   "metadata": {},
   "source": [
    "## Using the tf.data.Dataset API to work with large climate datasets and netcdf files\n",
    "\n",
    "The [tf.data.Dataset API](https://www.tensorflow.org/api_docs/python/tf/data/Dataset) provides a way to build input data pipelines for machine learning projects. One of the most helpful features of the API is the ability to train on datasets that are too large to fit in memory. In this case, tensorflow can iterate over the dataset during training, reading only the data that is needed for each training step. Most of the tf.data.Dataset functions can be multi-threaded and can occur in parallel with training, so depending on the complexity of your network, this doesn't necessarily even slow down training. \n",
    "\n",
    "One limitation is that there are currently no built-in ways to iteratively read data from netcdf datasets. The code here shows one solution to read netcdf data using a combination of built-in features and some custom functions.\n",
    "\n",
    "For background on the tf.data API, check out [Build TensorFlow input pipelines](https://www.tensorflow.org/guide/data), as well as the [tf.data.Dataset](https://www.tensorflow.org/api_docs/python/tf/data/Dataset) documentation."
   ]
  },
  {
   "cell_type": "code",
   "execution_count": 1,
   "id": "54275901-b45c-4444-ae69-d2e395a50dac",
   "metadata": {},
   "outputs": [],
   "source": [
    "import numpy as np\n",
    "import glob\n",
    "import netCDF4\n",
    "import tensorflow as tf\n",
    "import matplotlib.pyplot as plt"
   ]
  },
  {
   "cell_type": "markdown",
   "id": "d6715eca-63e2-4378-bcc7-5a0ae5b030a3",
   "metadata": {
    "tags": []
   },
   "source": [
    "### The data...\n",
    "For this example, we want to train a neural network using global, gridded, daily data from 10 climate model simulations - specifically, we will use 10 historical simulations of the MPI-ESM1-2-LR model from the CMIP6 archive. This is more data than we can hold in memory at once, so we will need to read the data in iteratively during training. We have done some pre-processing so that each simulation is saved in one netcdf file that covers the period from 1850-2014. Each file is ~4GB. "
   ]
  },
  {
   "cell_type": "markdown",
   "id": "c961bc9f-2052-44d8-a9af-bfc14304f9f7",
   "metadata": {},
   "source": [
    "The input to the network will be daily z500 maps, and the output from the network will be daily surface temperature for one grid point over Europe. (For simplicity, we won't use any time lag between the input and the output). "
   ]
  },
  {
   "cell_type": "code",
   "execution_count": 2,
   "id": "ffd68937-03b8-4e72-8d21-0c759b269ad9",
   "metadata": {},
   "outputs": [
    {
     "data": {
      "text/plain": [
       "['./CMIP6_data/z500_daily_MPI-ESM1-2-LR_historical_r10i1p1f1_18500101_20141231_2x2.nc',\n",
       " './CMIP6_data/z500_daily_MPI-ESM1-2-LR_historical_r1i1p1f1_18500101_20141231_2x2.nc',\n",
       " './CMIP6_data/z500_daily_MPI-ESM1-2-LR_historical_r2i1p1f1_18500101_20141231_2x2.nc',\n",
       " './CMIP6_data/z500_daily_MPI-ESM1-2-LR_historical_r3i1p1f1_18500101_20141231_2x2.nc',\n",
       " './CMIP6_data/z500_daily_MPI-ESM1-2-LR_historical_r4i1p1f1_18500101_20141231_2x2.nc',\n",
       " './CMIP6_data/z500_daily_MPI-ESM1-2-LR_historical_r5i1p1f1_18500101_20141231_2x2.nc',\n",
       " './CMIP6_data/z500_daily_MPI-ESM1-2-LR_historical_r6i1p1f1_18500101_20141231_2x2.nc',\n",
       " './CMIP6_data/z500_daily_MPI-ESM1-2-LR_historical_r7i1p1f1_18500101_20141231_2x2.nc',\n",
       " './CMIP6_data/z500_daily_MPI-ESM1-2-LR_historical_r8i1p1f1_18500101_20141231_2x2.nc',\n",
       " './CMIP6_data/z500_daily_MPI-ESM1-2-LR_historical_r9i1p1f1_18500101_20141231_2x2.nc']"
      ]
     },
     "execution_count": 2,
     "metadata": {},
     "output_type": "execute_result"
    }
   ],
   "source": [
    "file_directory = \"./CMIP6_data/\"\n",
    "sorted(glob.glob(file_directory+\"z500*.nc\"))"
   ]
  },
  {
   "cell_type": "code",
   "execution_count": 3,
   "id": "de9938ef-da0a-44cd-b685-9c70cd0cb8e4",
   "metadata": {},
   "outputs": [],
   "source": [
    "## latitudes and logitudes for location over France where we will predict temperatures\n",
    "ilat = 72 ## index of latitude, corresponds to 45.7 deg N\n",
    "ilon = 3 ## index of longitude, corresponds to 5.6 deg E"
   ]
  },
  {
   "cell_type": "markdown",
   "id": "c3151c00-999f-4672-b3f9-30650d31825c",
   "metadata": {},
   "source": [
    "### Overview\n",
    "\n",
    "This notebook uses the following general approach to read data directly from the original netcdf files: \n",
    "1. We first create a tf.data.dataset based on \"metadata\" that corresponds to individual input/output samples. In this case, each sample can be identified by the date and the simulation from which it comes (explained in more detail below).\n",
    "2. We then define a function that will take that metadata information as input and load the corresponding input/output samples at training time. We can apply this function to our dataset by using the map() function within the tf.data API \n",
    "3. We can then pass our dataset directly to model.fit() in order to train our neural network. "
   ]
  },
  {
   "cell_type": "markdown",
   "id": "a49945eb-ea33-44a1-a459-9ed34e780e8f",
   "metadata": {},
   "source": [
    "### Step 1a: define the metadata to identify each input sample\n",
    "For this example, each sample in our data can be identified by two pieces of information: the date and the simulation. (Because each simulation uses the same dates, we can also identify dates based on the index along the time dimension of each file - this is actually what we will use later on to simplify the file subsetting).\n",
    "\n",
    "We want our dataset to include all date and simulation combinations. We want the dates for each batch to be random (not consecutive). Another choice we will make is to draw samples from a single simulation per batch. This means we only need to open one file per batch, which should speed up data reading quite a bit. The permute_shuffle_batch() function below takes our dates and simulations as input, and returns two np.arrays of all possible date-simulation combinations. It is also set up so that every N elements in the array correspond to the same simulations, where N is our batch size.  \n"
   ]
  },
  {
   "cell_type": "code",
   "execution_count": 4,
   "id": "98f5219b-c040-4488-ae0e-a3e29df632aa",
   "metadata": {},
   "outputs": [
    {
     "data": {
      "text/plain": [
       "array(['1850-01-01T12:00:00.000000000', '1850-01-02T12:00:00.000000000',\n",
       "       '1850-01-03T12:00:00.000000000', ...,\n",
       "       '2014-12-07T12:00:00.000000000', '2014-12-08T12:00:00.000000000',\n",
       "       '2014-12-09T12:00:00.000000000'], dtype='datetime64[ns]')"
      ]
     },
     "execution_count": 4,
     "metadata": {},
     "output_type": "execute_result"
    }
   ],
   "source": [
    "dates = np.arange(np.datetime64(\"1850-01-01T12:00:00.000000000\"), \n",
    "                  np.datetime64(\"2014-12-10T12:00:00.000000000\"), # account for 21-day prediction lead\n",
    "                  step = np.timedelta64(1,'D')) \n",
    "dates_index = np.arange(len(dates)) \n",
    "dates"
   ]
  },
  {
   "cell_type": "code",
   "execution_count": 5,
   "id": "d6149d5e-b4eb-491f-8f43-d5692bebd15b",
   "metadata": {},
   "outputs": [
    {
     "data": {
      "text/plain": [
       "array(['r1i1p1f1', 'r2i1p1f1', 'r3i1p1f1', 'r4i1p1f1', 'r5i1p1f1',\n",
       "       'r6i1p1f1', 'r7i1p1f1', 'r8i1p1f1', 'r9i1p1f1', 'r10i1p1f1'],\n",
       "      dtype='<U9')"
      ]
     },
     "execution_count": 5,
     "metadata": {},
     "output_type": "execute_result"
    }
   ],
   "source": [
    "train_simulations = np.array([\"r\"+str(i)+\"i1p1f1\" for i in range(1, 11)])\n",
    "train_simulations"
   ]
  },
  {
   "cell_type": "code",
   "execution_count": 6,
   "id": "9a794d69-b2bf-4761-9308-9e7b4644539a",
   "metadata": {},
   "outputs": [],
   "source": [
    "batch_size = 32"
   ]
  },
  {
   "cell_type": "code",
   "execution_count": 7,
   "id": "0835636e-1f8a-4226-90a0-5f4b58f57756",
   "metadata": {},
   "outputs": [],
   "source": [
    "def permute_shuffle_batch(dates, simulations, batch_size, seed = 123): \n",
    "    \"\"\"this function will create two new arrays that include every permutation of \n",
    "       dates and simulations AND where the simulation is constant for each batch. \n",
    "       If len(dates) is not an exact multiple of batch_size, some dates will be \n",
    "       reused to fill last batch \"\"\"\n",
    "    \n",
    "    np.random.seed(seed)\n",
    "    \n",
    "    n = len(dates)\n",
    "    r = batch_size - (n % batch_size) #remainder to fill at end\n",
    "    n2 = len(simulations)\n",
    "    n_batch = (n+r)//batch_size\n",
    "    \n",
    "    shuffled_dates = []\n",
    "    for i in range(n2): \n",
    "        tmp = dates\n",
    "        np.random.shuffle(tmp)\n",
    "        shuffled_dates.append(np.append(tmp, np.random.choice(tmp, r)))\n",
    "        \n",
    "    shuffled_dates = np.concatenate(shuffled_dates, axis = 0).reshape(((n+r)*n2), order = 'F')\n",
    "    shuffled_simulations = np.tile(simulations.repeat(batch_size), n_batch)\n",
    "    \n",
    "    return shuffled_dates, shuffled_simulations"
   ]
  },
  {
   "cell_type": "code",
   "execution_count": 8,
   "id": "c4e04a17-0561-4e2b-bab1-23988bb4376f",
   "metadata": {},
   "outputs": [
    {
     "name": "stdout",
     "output_type": "stream",
     "text": [
      "(602560,) (602560,)\n"
     ]
    }
   ],
   "source": [
    "xy_dates, xy_simulations = permute_shuffle_batch(dates_index, train_simulations, batch_size)\n",
    "\n",
    "print(xy_dates.shape, xy_simulations.shape)"
   ]
  },
  {
   "cell_type": "markdown",
   "id": "d0946de0-a3fc-4bc0-b6f7-98ef1bbad6eb",
   "metadata": {},
   "source": [
    "### Step 1b: Create initial tf dataset from the metadata\n",
    "We can create the input dataset using the tf.data.Dataset.from_tensor_slices() function, which creates a dataset from objects in memory. We will create separate x (input) and y (output) datasets that we will then zip together at the end. \n",
    "Once we make a dataset, it is good to inspect individual elements of the dataset to make sure everything looks as expected. "
   ]
  },
  {
   "cell_type": "code",
   "execution_count": 9,
   "id": "67a32d42-8386-4b6a-9ab7-d6a547634b01",
   "metadata": {},
   "outputs": [
    {
     "name": "stderr",
     "output_type": "stream",
     "text": [
      "2022-12-05 19:54:10.903213: I tensorflow/core/platform/cpu_feature_guard.cc:151] This TensorFlow binary is optimized with oneAPI Deep Neural Network Library (oneDNN) to use the following CPU instructions in performance-critical operations:  SSE4.1 SSE4.2 AVX AVX2 FMA\n",
      "To enable them in other operations, rebuild TensorFlow with the appropriate compiler flags.\n"
     ]
    }
   ],
   "source": [
    "x_ds = tf.data.Dataset.from_tensor_slices((xy_dates, xy_simulations))\n",
    "y_ds = tf.data.Dataset.from_tensor_slices((xy_dates, xy_simulations))"
   ]
  },
  {
   "cell_type": "code",
   "execution_count": 10,
   "id": "978b11b8-64cd-4551-b814-032884d4003e",
   "metadata": {},
   "outputs": [
    {
     "data": {
      "text/plain": [
       "<TensorSliceDataset shapes: ((), ()), types: (tf.int64, tf.string)>"
      ]
     },
     "execution_count": 10,
     "metadata": {},
     "output_type": "execute_result"
    }
   ],
   "source": [
    "x_ds"
   ]
  },
  {
   "cell_type": "code",
   "execution_count": 11,
   "id": "df2ab4c9-38c4-4d5a-b070-3127d3c0e4df",
   "metadata": {},
   "outputs": [
    {
     "name": "stdout",
     "output_type": "stream",
     "text": [
      "(31750, b'r1i1p1f1')\n",
      "(59137, b'r1i1p1f1')\n",
      "(55281, b'r1i1p1f1')\n",
      "(58925, b'r1i1p1f1')\n"
     ]
    }
   ],
   "source": [
    "for elem in x_ds.take(4).as_numpy_iterator():\n",
    "    print(elem)"
   ]
  },
  {
   "cell_type": "markdown",
   "id": "80ea103c-5517-47e4-a2ea-df1c32d58a8f",
   "metadata": {},
   "source": [
    "For our pipeline, we want to batch the dataset before mapping it to the actual data in the next step. This allows us to apply the mapping function to an entire batch at once. After batching, we will also shuffle the dataset and specify reshuffle_each_iteration=True. This ensures that each epoch of training sees the batches in a different order. For other specifics on shuffling, see [here](https://www.tensorflow.org/api_docs/python/tf/data/Dataset#shuffle).\n",
    "\n",
    "If we print out one dataset element now, we can see it contains an entire batch of data. "
   ]
  },
  {
   "cell_type": "code",
   "execution_count": 12,
   "id": "cf52616e-d45a-42e5-91eb-d9eb247af6c9",
   "metadata": {},
   "outputs": [],
   "source": [
    "x_ds = x_ds.batch(batch_size).shuffle(buffer_size = int(len(xy_dates)/batch_size), reshuffle_each_iteration=True)\n",
    "y_ds = y_ds.batch(batch_size).shuffle(buffer_size = int(len(xy_dates)/batch_size), reshuffle_each_iteration=True)"
   ]
  },
  {
   "cell_type": "code",
   "execution_count": 13,
   "id": "73b14d78-267b-408d-835c-d1f9e9eb6ba0",
   "metadata": {},
   "outputs": [
    {
     "name": "stdout",
     "output_type": "stream",
     "text": [
      "(array([48580, 58817, 35673, 57373, 48755, 35427, 45562, 45994, 29582,\n",
      "       34092, 13842, 25714, 37114, 53093,   466, 35694, 12267, 14892,\n",
      "       33943,  9485, 24509, 59185, 11652, 38102, 57550, 45140, 20125,\n",
      "       19817, 12940, 25351, 29364, 24398]), array([b'r1i1p1f1', b'r1i1p1f1', b'r1i1p1f1', b'r1i1p1f1', b'r1i1p1f1',\n",
      "       b'r1i1p1f1', b'r1i1p1f1', b'r1i1p1f1', b'r1i1p1f1', b'r1i1p1f1',\n",
      "       b'r1i1p1f1', b'r1i1p1f1', b'r1i1p1f1', b'r1i1p1f1', b'r1i1p1f1',\n",
      "       b'r1i1p1f1', b'r1i1p1f1', b'r1i1p1f1', b'r1i1p1f1', b'r1i1p1f1',\n",
      "       b'r1i1p1f1', b'r1i1p1f1', b'r1i1p1f1', b'r1i1p1f1', b'r1i1p1f1',\n",
      "       b'r1i1p1f1', b'r1i1p1f1', b'r1i1p1f1', b'r1i1p1f1', b'r1i1p1f1',\n",
      "       b'r1i1p1f1', b'r1i1p1f1'], dtype=object))\n"
     ]
    }
   ],
   "source": [
    "for elem in x_ds.take(1).as_numpy_iterator():\n",
    "    print(elem)"
   ]
  },
  {
   "cell_type": "markdown",
   "id": "565dba4d-eabf-4174-a164-9ba67048160c",
   "metadata": {},
   "source": [
    "### Step 2: map the dataset to the actual data\n",
    "\n",
    "The next step in our pipeline is to define functions to load the actual data for each batch. We will have one function that loads our input data (get_x_data()) and one function that loads our output labels (get_y_data()). The functions must take a dataset element as input. Because we batched the dataset in the last stap, each dataset element is one batch of samples containing date and simulation information.\n",
    "\n",
    "We will then use dataset.map() to apply this function to the current dataset. Because our get_x_data() and get_y_data() functions contain some non-tensorflow code (for example, functions from the netCDF4 package), we need to use the tf.py_function syntax. Once we have mapped the dataset, we can again inspect the first elements to make sure everything looks as expected. \n",
    "\n",
    "Note: dataset.map() has a num_parallel_calls option that we can use to execute computations in parallel. However, from the tensorflow documentation: \"note that the use of tf.numpy_function and tf.py_function in general precludes the possibility of executing user-defined transformations in parallel (because of Python GIL).\" My advice is to try different things and see how the performance compares. This [guide](https://www.tensorflow.org/guide/data_performance) is also helpful for optimizing dataset performance. "
   ]
  },
  {
   "cell_type": "code",
   "execution_count": 14,
   "id": "31a20774-785e-400d-898e-42b2c5ec4c09",
   "metadata": {},
   "outputs": [],
   "source": [
    "def get_x_data(dates, simulation): \n",
    "    \"\"\"Read input data for each batch using the netcdf package\n",
    "       For simplicity, the file paths have been hard coded here \n",
    "       This will read data for each predictor and combine into one 3-D tensor\"\"\"\n",
    "\n",
    "    simulation = simulation[0] # all simulations are the same for each batch based on how we've set it up\n",
    "    \n",
    "    filename = \"./CMIP6_data/z500_daily_MPI-ESM1-2-LR_historical_\" + simulation.numpy().decode() + \"_18500101_20141231_2x2.nc\"\n",
    "    \n",
    "    ## read file\n",
    "    ds = netCDF4.Dataset(filename)   \n",
    "    \n",
    "    ## select dates for this batch and convert to tensor\n",
    "    dat = tf.convert_to_tensor(ds.variables[\"zg\"][dates])\n",
    "        \n",
    "    return(dat)"
   ]
  },
  {
   "cell_type": "code",
   "execution_count": 15,
   "id": "449e8a50-fdea-4a27-a4a7-443d2d576361",
   "metadata": {},
   "outputs": [],
   "source": [
    "def get_y_data(dates, simulation):\n",
    "    simulation = simulation[0]\n",
    "    filename = \"./CMIP6_data/tas_daily_MPI-ESM1-2-LR_historical_\" + simulation.numpy().decode() + \"_18500101_20141231_2x2.nc\"\n",
    "    ds = netCDF4.Dataset(filename) \n",
    "    return(tf.convert_to_tensor(ds.variables[\"tas\"][dates, ilat, ilon]))"
   ]
  },
  {
   "cell_type": "code",
   "execution_count": 16,
   "id": "f9ecb37b-d203-4dcf-a6a8-01f1ffce72d1",
   "metadata": {},
   "outputs": [],
   "source": [
    "x_ds = x_ds.map(lambda dates, simulation: tf.py_function(get_x_data, \n",
    "                                                         [dates, simulation], \n",
    "                                                         Tout=tf.float32))\n",
    "\n",
    "y_ds = y_ds.map(lambda dates, simulation: tf.py_function(get_y_data, \n",
    "                                                         [dates, simulation],\n",
    "                                                         Tout=tf.float32))"
   ]
  },
  {
   "cell_type": "code",
   "execution_count": 17,
   "id": "d709c71c-6f95-4157-b9d5-ee4646a62a42",
   "metadata": {},
   "outputs": [
    {
     "data": {
      "text/plain": [
       "<MapDataset shapes: <unknown>, types: tf.float32>"
      ]
     },
     "execution_count": 17,
     "metadata": {},
     "output_type": "execute_result"
    }
   ],
   "source": [
    "x_ds"
   ]
  },
  {
   "cell_type": "code",
   "execution_count": 18,
   "id": "d35918f0-3611-4da5-8622-e6d78cdb74da",
   "metadata": {},
   "outputs": [],
   "source": [
    "batch1_x = next(x_ds.as_numpy_iterator()) ## get first batch"
   ]
  },
  {
   "cell_type": "code",
   "execution_count": 19,
   "id": "495cfd42-16c9-4c49-9bcd-93d5dc5338a1",
   "metadata": {},
   "outputs": [
    {
     "data": {
      "text/plain": [
       "(32, 90, 180)"
      ]
     },
     "execution_count": 19,
     "metadata": {},
     "output_type": "execute_result"
    }
   ],
   "source": [
    "batch1_x.shape ## we see that there are 32 samples in the batch, which each have a 90x180 input map of z500"
   ]
  },
  {
   "cell_type": "code",
   "execution_count": 20,
   "id": "9f71526c-117f-44a1-9d64-67b2c7b3cc9d",
   "metadata": {},
   "outputs": [
    {
     "name": "stdout",
     "output_type": "stream",
     "text": [
      "CPU times: user 2 µs, sys: 1e+03 ns, total: 3 µs\n",
      "Wall time: 4.77 µs\n"
     ]
    },
    {
     "data": {
      "text/plain": [
       "array([[[4843.3457, 4843.279 , 4843.261 , ..., 4843.466 , 4843.4365,\n",
       "         4843.381 ],\n",
       "        [4853.866 , 4853.7153, 4853.6406, ..., 4854.579 , 4854.392 ,\n",
       "         4854.157 ],\n",
       "        [4869.806 , 4868.839 , 4867.7827, ..., 4871.9126, 4871.3374,\n",
       "         4870.6333],\n",
       "        ...,\n",
       "        [5291.737 , 5291.569 , 5291.462 , ..., 5292.309 , 5292.1377,\n",
       "         5291.9375],\n",
       "        [5237.4287, 5237.8535, 5238.2964, ..., 5235.959 , 5236.479 ,\n",
       "         5236.9673],\n",
       "        [5194.5547, 5195.0684, 5195.5527, ..., 5193.028 , 5193.536 ,\n",
       "         5194.0527]],\n",
       "\n",
       "       [[5253.822 , 5253.4614, 5253.14  , ..., 5254.7964, 5254.4814,\n",
       "         5254.1484],\n",
       "        [5265.0107, 5264.7266, 5264.4346, ..., 5265.9487, 5265.609 ,\n",
       "         5265.3076],\n",
       "        [5268.7363, 5269.5073, 5270.387 , ..., 5266.986 , 5267.4526,\n",
       "         5268.046 ],\n",
       "        ...,\n",
       "        [5144.059 , 5144.014 , 5143.7617, ..., 5142.5024, 5143.3193,\n",
       "         5143.84  ],\n",
       "        [5135.195 , 5135.351 , 5135.4404, ..., 5134.1357, 5134.5967,\n",
       "         5134.955 ],\n",
       "        [5116.0264, 5116.1533, 5116.2407, ..., 5115.606 , 5115.755 ,\n",
       "         5115.898 ]],\n",
       "\n",
       "       [[4889.1494, 4889.282 , 4889.4893, ..., 4888.8403, 4888.9365,\n",
       "         4889.021 ],\n",
       "        [4880.0425, 4880.9727, 4882.016 , ..., 4878.8306, 4878.9326,\n",
       "         4879.3066],\n",
       "        [4878.4844, 4880.002 , 4881.914 , ..., 4876.257 , 4876.561 ,\n",
       "         4877.327 ],\n",
       "        ...,\n",
       "        [5540.7466, 5540.2144, 5539.6143, ..., 5541.786 , 5541.5664,\n",
       "         5541.1973],\n",
       "        [5528.186 , 5528.343 , 5528.5356, ..., 5527.604 , 5527.81  ,\n",
       "         5528.0093],\n",
       "        [5516.8613, 5517.0483, 5517.2056, ..., 5516.4106, 5516.545 ,\n",
       "         5516.6978]],\n",
       "\n",
       "       ...,\n",
       "\n",
       "       [[4996.4824, 4996.078 , 4995.734 , ..., 4997.6895, 4997.2954,\n",
       "         4996.8794],\n",
       "        [4983.391 , 4981.8506, 4980.307 , ..., 4988.1465, 4986.5425,\n",
       "         4984.964 ],\n",
       "        [4951.2656, 4948.7144, 4946.2837, ..., 4959.2383, 4956.497 ,\n",
       "         4953.849 ],\n",
       "        ...,\n",
       "        [5382.4585, 5383.473 , 5384.519 , ..., 5379.269 , 5380.349 ,\n",
       "         5381.418 ],\n",
       "        [5383.    , 5383.2725, 5383.591 , ..., 5382.22  , 5382.478 ,\n",
       "         5382.7427],\n",
       "        [5386.421 , 5386.4673, 5386.4995, ..., 5386.427 , 5386.4062,\n",
       "         5386.409 ]],\n",
       "\n",
       "       [[4927.8994, 4927.9785, 4928.1206, ..., 4927.65  , 4927.7314,\n",
       "         4927.8057],\n",
       "        [4920.422 , 4920.5493, 4920.6597, ..., 4920.138 , 4920.2124,\n",
       "         4920.3096],\n",
       "        [4923.2295, 4923.014 , 4922.8667, ..., 4924.142 , 4923.765 ,\n",
       "         4923.4688],\n",
       "        ...,\n",
       "        [5120.9346, 5120.057 , 5119.3296, ..., 5123.8643, 5122.887 ,\n",
       "         5121.8994],\n",
       "        [5161.0283, 5161.3643, 5161.8223, ..., 5160.3535, 5160.537 ,\n",
       "         5160.766 ],\n",
       "        [5190.509 , 5190.941 , 5191.3726, ..., 5189.4136, 5189.7437,\n",
       "         5190.112 ]],\n",
       "\n",
       "       [[5180.5405, 5179.866 , 5179.227 , ..., 5182.5034, 5181.867 ,\n",
       "         5181.1943],\n",
       "        [5183.1836, 5181.614 , 5180.035 , ..., 5187.9004, 5186.319 ,\n",
       "         5184.755 ],\n",
       "        [5176.499 , 5174.3203, 5172.204 , ..., 5183.2456, 5180.9434,\n",
       "         5178.707 ],\n",
       "        ...,\n",
       "        [4996.558 , 4996.862 , 4997.0586, ..., 4994.5356, 4995.4077,\n",
       "         4996.0737],\n",
       "        [4959.5996, 4959.5386, 4959.4443, ..., 4959.282 , 4959.4604,\n",
       "         4959.5737],\n",
       "        [4909.169 , 4908.9424, 4908.6704, ..., 4909.736 , 4909.5728,\n",
       "         4909.379 ]]], dtype=float32)"
      ]
     },
     "execution_count": 20,
     "metadata": {},
     "output_type": "execute_result"
    }
   ],
   "source": [
    "%%time\n",
    "## we can print out the actual values, and time how long it takes to actually generate this batch of data...its on the order of a few microseconds, so not too long\n",
    "batch1_x"
   ]
  },
  {
   "cell_type": "code",
   "execution_count": 21,
   "id": "61e48e50-2303-411f-bff2-22b67ddedc2b",
   "metadata": {},
   "outputs": [
    {
     "data": {
      "text/plain": [
       "<matplotlib.colorbar.Colorbar at 0x1825c0430>"
      ]
     },
     "execution_count": 21,
     "metadata": {},
     "output_type": "execute_result"
    },
    {
     "data": {
      "image/png": "[encoded data removed]",
      "text/plain": [
       "<Figure size 432x288 with 2 Axes>"
      ]
     },
     "metadata": {
      "needs_background": "light"
     },
     "output_type": "display_data"
    }
   ],
   "source": [
    "## plot the first sample\n",
    "plt.pcolormesh(batch1_x[0])\n",
    "plt.colorbar()"
   ]
  },
  {
   "cell_type": "markdown",
   "id": "86f9cd9e-a217-4d82-a57a-2c078f89606e",
   "metadata": {},
   "source": [
    "This definitely looks like a map of geopotential height! "
   ]
  },
  {
   "cell_type": "code",
   "execution_count": 22,
   "id": "45c31b5e-774c-4c0a-8e6f-7da5ee38f172",
   "metadata": {},
   "outputs": [],
   "source": [
    "## check the y dataset...\n",
    "batch1_y = next(y_ds.as_numpy_iterator())"
   ]
  },
  {
   "cell_type": "code",
   "execution_count": 23,
   "id": "9a110338-530d-4bc9-9e58-650eb39349af",
   "metadata": {},
   "outputs": [
    {
     "data": {
      "text/plain": [
       "(32,)"
      ]
     },
     "execution_count": 23,
     "metadata": {},
     "output_type": "execute_result"
    }
   ],
   "source": [
    "batch1_y.shape ## here, we can see that there are again 32 samples in the first batch"
   ]
  },
  {
   "cell_type": "code",
   "execution_count": 24,
   "id": "b0cfb96a-f48e-4ef7-90ec-50b8b044fa73",
   "metadata": {},
   "outputs": [
    {
     "name": "stdout",
     "output_type": "stream",
     "text": [
      "CPU times: user 2 µs, sys: 1 µs, total: 3 µs\n",
      "Wall time: 8.11 µs\n"
     ]
    },
    {
     "data": {
      "text/plain": [
       "array([277.4715 , 284.3837 , 280.17932, 287.73257, 281.0763 , 277.7764 ,\n",
       "       288.33063, 278.89493, 277.72345, 283.81067, 279.27936, 285.5353 ,\n",
       "       289.6241 , 284.60065, 283.98346, 288.34427, 281.4951 , 290.8068 ,\n",
       "       277.19635, 290.10953, 277.43634, 281.64877, 281.3803 , 287.21753,\n",
       "       289.9727 , 279.0876 , 273.4858 , 281.19653, 276.1486 , 290.24368,\n",
       "       282.28134, 286.01794], dtype=float32)"
      ]
     },
     "execution_count": 24,
     "metadata": {},
     "output_type": "execute_result"
    }
   ],
   "source": [
    "%%time\n",
    "batch1_y"
   ]
  },
  {
   "cell_type": "markdown",
   "id": "ddd2e84c-7442-4279-918d-2dd1d1f14f74",
   "metadata": {},
   "source": [
    "These look like surface temperature values!"
   ]
  },
  {
   "cell_type": "markdown",
   "id": "5cb221a2-c6d7-4026-92a9-351ba18d8d8e",
   "metadata": {},
   "source": [
    "### Step 3: Train the neural network!\n",
    "\n",
    "Our last step is to train our neural network. We will define a simple ANN, and pass the dataset to the model during the model.fit() step. First, we will combine our x and y datasets by zipping them together. "
   ]
  },
  {
   "cell_type": "code",
   "execution_count": 25,
   "id": "afdbc975-1351-4bde-8505-94fa267145ef",
   "metadata": {},
   "outputs": [
    {
     "data": {
      "text/plain": [
       "<ZipDataset shapes: (<unknown>, <unknown>), types: (tf.float32, tf.float32)>"
      ]
     },
     "execution_count": 25,
     "metadata": {},
     "output_type": "execute_result"
    }
   ],
   "source": [
    "ds = tf.data.Dataset.zip((x_ds, y_ds))\n",
    "ds"
   ]
  },
  {
   "cell_type": "code",
   "execution_count": 26,
   "id": "6dcb72b3-cfdc-4f74-922a-3bcc64d2b1a9",
   "metadata": {},
   "outputs": [],
   "source": [
    "def build_model():\n",
    "    input_layer = tf.keras.layers.Input(shape=(90, 180), name = \"input\") \n",
    "    layers = tf.keras.layers.Flatten()(input_layer)\n",
    "    layers = tf.keras.layers.Dense(32, activation = 'relu')(layers)\n",
    "    layers = tf.keras.layers.Dense(32, activation = 'relu')(layers)\n",
    "    output_layer = tf.keras.layers.Dense(1, activation = \"linear\")(layers)\n",
    "    \n",
    "    model = tf.keras.models.Model(input_layer, output_layer)\n",
    "    return(model)"
   ]
  },
  {
   "cell_type": "code",
   "execution_count": 27,
   "id": "10b333b2-2f63-433c-8d4b-1b8bfc9eddb0",
   "metadata": {},
   "outputs": [],
   "source": [
    "model = build_model()\n",
    "model.compile(loss=\"mse\", \n",
    "            optimizer=tf.keras.optimizers.Adam(learning_rate = 0.0001))"
   ]
  },
  {
   "cell_type": "code",
   "execution_count": 28,
   "id": "80c111c7-67b3-4372-9b49-84bb3fac7bdf",
   "metadata": {},
   "outputs": [
    {
     "name": "stdout",
     "output_type": "stream",
     "text": [
      "Epoch 1/2\n",
      "18830/18830 [==============================] - 650s 34ms/step - loss: 16337.0010\n",
      "Epoch 2/2\n",
      "18830/18830 [==============================] - 642s 34ms/step - loss: 1861.1987\n"
     ]
    },
    {
     "data": {
      "text/plain": [
       "<keras.callbacks.History at 0x1826541f0>"
      ]
     },
     "execution_count": 28,
     "metadata": {},
     "output_type": "execute_result"
    }
   ],
   "source": [
    "model.fit(ds, epochs = 2, verbose = 1)"
   ]
  },
  {
   "cell_type": "markdown",
   "id": "95e44332-3288-4d5a-8bf1-101806b46b06",
   "metadata": {},
   "source": [
    "### Some additional notes: \n",
    "Although the tf.data API makes it easy to load data during training, constantly reading data can be slow and for some cases, it will become a bottleneck in the training process. With the amount of data in the example above, it takes over 20 minutes to train just two epochs on my desktop mac! If you are looking to speed up training, this tutorial is a very helpful place to start: [Better performance with the tf.data API](https://www.tensorflow.org/guide/data_performance)\n",
    "\n",
    "This was a very basic example to illustrate how you can train tensorflow models directly from large, netcdf datasets. In reality, we might make a number of different choices in setting up our problem. For example, we would likely want to standardize or pre-process our input data, which we could do by including a pre-processing step within our get_x_data() function, or by adding a normalization layer to our tensorflow model. We could also repeat the process above to create validation datasets that could be used during training for early stopping. "
   ]
  },
  {
   "cell_type": "code",
   "execution_count": null,
   "id": "bd86a1eb-47a3-450b-afca-612317cc9d78",
   "metadata": {},
   "outputs": [],
   "source": []
  }
 ],
 "metadata": {
  "kernelspec": {
   "display_name": "Python 3 (ipykernel)",
   "language": "python",
   "name": "python3"
  },
  "language_info": {
   "codemirror_mode": {
    "name": "ipython",
    "version": 3
   },
   "file_extension": ".py",
   "mimetype": "text/x-python",
   "name": "python",
   "nbconvert_exporter": "python",
   "pygments_lexer": "ipython3",
   "version": "3.9.12"
  }
 },
 "nbformat": 4,
 "nbformat_minor": 5
}
